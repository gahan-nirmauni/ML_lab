{
 "cells": [
  {
   "cell_type": "markdown",
   "metadata": {},
   "source": [
    "Machine Learning \n",
    "===============\n",
    "Innovative Assignment\n",
    "---------------------------------\n",
    "Developed By: Gahan Saraiya\n",
    "\n",
    "Sample Dataset:\n",
    "```csv\n",
    "0,235.47,12.22,0.271,25.2,45.6,25.28\n",
    "0,235.47,12.22,0.271,25.2,45.6,25.28\n",
    "0,235.66,12.22,1.061,25.2,45.6,25.28\n",
    "0,235.66,12.11,1.061,25.2,45.6,25.28\n",
    "0,235.66,12.06,1.341,25.2,45.6,25.28\n",
    "0,236.04,12.01,0.411,25.2,45.6,25.28\n",
    "0,236.04,12.06,0.411,25.2,45.6,25.28\n",
    "0,235.7,12.01,0.941,25.2,45.6,25.28\n",
    "0,235.7,12.1,0.941,25.2,45.6,25.28\n",
    "0,235.7,12.1,0.941,25.2,45.6,25.28\n",
    "0,236.23,12.1,0.381,25.2,45.6,25.28\n",
    "1,229.98,11.77,1.281,22.7,39,28.67\n",
    "1,229.98,11.77,1.281,22.7,39,28.67\n",
    "1,230.95,11.77,0.541,22.7,39,28.67\n",
    "1,230.95,11.82,0.541,22.7,39,28.67\n",
    "1,230.95,11.82,0.541,22.7,39,28.67\n",
    "1,230.95,11.82,0.601,22.7,39,28.77\n",
    "1,230.38,11.82,0.601,22.7,39,28.77\n",
    "1,230.38,11.88,0.601,22.7,39,28.77\n",
    "1,230.38,11.88,0.601,22.7,39,28.77\n",
    "```\n",
    "First attribute : Class value 0 or 1\n",
    "2nd attribute onwards - select one to work for features\n",
    "\n",
    "Use this other attributes as input to Neural Network and classify the tuple.\n",
    "\n",
    "Tweak --- In general, activation function at output layer yields exact class value i.e. 0 or 1 but out put should be probabilistic which we get before classifying it to 0 or 1"
   ]
  },
  {
   "cell_type": "code",
   "execution_count": 1,
   "metadata": {},
   "outputs": [],
   "source": [
    "\"\"\"\n",
    "Implementing Classifier with Neural Network and Regression for given dataset\n",
    "\"\"\"\n",
    "__author__ = [\"Gahan Saraiya\", \"Priyanka Bhati\"]"
   ]
  },
  {
   "cell_type": "code",
   "execution_count": 3,
   "metadata": {},
   "outputs": [],
   "source": [
    "# Setup basic utilities\n",
    "import os\n",
    "import numpy as np # linear algebra"
   ]
  },
  {
   "cell_type": "code",
   "execution_count": 4,
   "metadata": {},
   "outputs": [],
   "source": [
    "import matplotlib.pyplot as plt #for plotting\n",
    "from collections import Counter\n",
    "from sklearn.metrics import confusion_matrix\n",
    "import itertools\n",
    "import seaborn as sns\n",
    "from subprocess import check_output\n",
    "import os\n",
    "# print(check_output([\"ls\", \"input\"]).decode(\"utf8\"))\n",
    "# %matplotlib inline"
   ]
  },
  {
   "cell_type": "code",
   "execution_count": 5,
   "metadata": {},
   "outputs": [
    {
     "name": "stdout",
     "output_type": "stream",
     "text": [
      " Volume in drive F is DATA_DRIVE_2\n",
      " Volume Serial Number is 32E5-C554\n",
      "\n",
      " Directory of F:\\Projects\\LAB_nirmauniv\\ML_lab\\innovative_assignment\n",
      "\n",
      "07-04-2019  06:08 PM    <DIR>          .\n",
      "07-04-2019  06:08 PM    <DIR>          ..\n",
      "07-04-2019  06:06 PM    <DIR>          .ipynb_checkpoints\n",
      "05-04-2019  10:19 PM        23,744,811 B.csv\n",
      "07-04-2019  06:08 PM             3,136 navy_classifier.ipynb\n",
      "05-04-2019  10:19 PM        21,696,610 navysvm.txt\n",
      "05-04-2019  11:09 PM             1,142 README.md\n",
      "               4 File(s)     45,445,699 bytes\n",
      "               3 Dir(s)  34,161,446,912 bytes free\n"
     ]
    }
   ],
   "source": [
    "WORKING_DIR = os.getcwd()\n",
    "DATA_PATH_B = os.path.join(WORKING_DIR, \"B.csv\")\n",
    "DATA_PATH_navy = os.path.join(WORKING_DIR, \"B.csv\")"
   ]
  },
  {
   "cell_type": "code",
   "execution_count": 6,
   "metadata": {},
   "outputs": [
    {
     "data": {
      "text/plain": [
       "'F:\\\\Projects\\\\LAB_nirmauniv\\\\ML_lab\\\\innovative_assignment'"
      ]
     },
     "execution_count": 6,
     "metadata": {},
     "output_type": "execute_result"
    }
   ],
   "source": []
  },
  {
   "cell_type": "code",
   "execution_count": null,
   "metadata": {},
   "outputs": [],
   "source": []
  }
 ],
 "metadata": {
  "kernelspec": {
   "display_name": "Python 3",
   "language": "python",
   "name": "python3"
  },
  "language_info": {
   "codemirror_mode": {
    "name": "ipython",
    "version": 3
   },
   "file_extension": ".py",
   "mimetype": "text/x-python",
   "name": "python",
   "nbconvert_exporter": "python",
   "pygments_lexer": "ipython3",
   "version": "3.6.2"
  }
 },
 "nbformat": 4,
 "nbformat_minor": 2
}
