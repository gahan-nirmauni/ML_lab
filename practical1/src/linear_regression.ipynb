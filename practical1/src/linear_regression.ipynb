{
 "cells": [
  {
   "cell_type": "code",
   "execution_count": 17,
   "metadata": {},
   "outputs": [],
   "source": [
    "import pandas as pd\n",
    "# Setting up inline plotting using jupyter notebook \"magic\"\n",
    "%matplotlib inline\n",
    "\n",
    "import matplotlib.pyplot as plt\n",
    "import numpy as np\n",
    "# Read below thread for plotting guides\n",
    "# https://www.oreilly.com/library/view/python-data-science/9781491912126/ch04.html"
   ]
  },
  {
   "cell_type": "code",
   "execution_count": 18,
   "metadata": {
    "scrolled": false
   },
   "outputs": [],
   "source": [
    "# df = pd.read_csv('data.txt', header=None)\n",
    "# x_mean, y_mean = df.mean()\n",
    "# print(x, y)\n",
    "# df[2] = df[0] - x_mean  # mean value difference: subtract mean from all input values of training set\n",
    "# df[3] = df[1] - y_mean  # mean value difference: subtract mean from all output values of training set\n",
    "# df[4] = df[2] ** 2  # square of mean value difference\n",
    "# df[5] = df[2] * df[3]\n",
    "# beta = sum(df[5])/ sum(df[4])\n",
    "# alpha = y_mean - beta*x_mean\n",
    "# print(alpha, beta)"
   ]
  },
  {
   "cell_type": "code",
   "execution_count": 19,
   "metadata": {},
   "outputs": [
    {
     "data": {
      "image/png": "[encoded data removed]",
      "text/plain": [
       "<Figure size 432x288 with 1 Axes>"
      ]
     },
     "metadata": {
      "needs_background": "light"
     },
     "output_type": "display_data"
    }
   ],
   "source": [
    "class StatasticalRegression(object):\n",
    "    def __init__(self, dataframe_path=\"data.txt\"):\n",
    "        self.dataframe = pd.read_csv(dataframe_path, header=None)\n",
    "        self.alpha, self.beta = None, None\n",
    "    \n",
    "    def compute_constant(self):\n",
    "        x_mean, y_mean = self.dataframe.mean()\n",
    "#         print(\"Mean X: {}\\nMean Y: {}\".format(x_mean, y_mean))\n",
    "        self.dataframe['input_diff'] = self.dataframe[0] - x_mean  # mean value difference: subtract mean from all input values of training set\n",
    "        self.dataframe['output_diff'] = self.dataframe[1] - y_mean  # mean value difference: subtract mean from all output values of training set\n",
    "        self.dataframe['sqrd_input_diff'] = self.dataframe.input_diff ** 2  # square of mean value difference\n",
    "        self.dataframe['mul_input_output_diff'] = self.dataframe.input_diff * self.dataframe.output_diff\n",
    "#         print(\"Result: \\n{}\".format(self.dataframe))\n",
    "        self.beta = sum(self.dataframe.mul_input_output_diff)/ sum(self.dataframe.sqrd_input_diff)\n",
    "        self.alpha = y_mean - self.beta*x_mean\n",
    "        return self.alpha, self.beta\n",
    "    \n",
    "    def hypothesis(self, feature, alpha=None, beta=None):\n",
    "        if not (alpha and beta):\n",
    "            alpha, beta = self.compute_constant()\n",
    "        return (alpha + beta*feature)\n",
    "    \n",
    "    def add_predicted_values(self):\n",
    "        self.dataframe['prediction'] = self.hypothesis(self.dataframe[0], alpha, beta)\n",
    "    \n",
    "    def draw_accuracy_plot(self):\n",
    "        fig = plt.figure().add_axes((0.1, 0.2, 0.8, 0.7))\n",
    "        x = range(min(self.dataframe[0]) - 10, max(self.dataframe[0]) + 10)\n",
    "        fig.plot(x, [self.hypothesis(i, alpha, beta) for i in x])\n",
    "        fig.scatter(self.dataframe[0], self.dataframe[1], marker='x', c=\"red\")\n",
    "        fig.set_title(\"Plot of statistical model\")\n",
    "\n",
    "s = StatasticalRegression()\n",
    "alpha, beta = s.compute_constant()\n",
    "s.add_predicted_values()\n",
    "s.draw_accuracy_plot()"
   ]
  },
  {
   "cell_type": "code",
   "execution_count": 43,
   "metadata": {},
   "outputs": [],
   "source": [
    "dataframe = pd.read_csv(\"data.txt\", header=None)\n",
    "# dataframe\n",
    "dataframe['bias'] = 1  # add bias value x_0\n",
    "initial_theta = np.array([1,1])  # set initial value of theta to 1,1\n",
    "learning_rate = 0.1  # set learning rate alpha\n",
    "hypothesis = dataframe['bias'] * initial_theta[0] + dataframe[0] * initial_theta[1]"
   ]
  },
  {
   "cell_type": "code",
   "execution_count": 51,
   "metadata": {},
   "outputs": [],
   "source": [
    "sqrErrors = (hypothesis - dataframe[1]) ** 2  # mean squared error"
   ]
  },
  {
   "cell_type": "code",
   "execution_count": 54,
   "metadata": {},
   "outputs": [
    {
     "data": {
      "text/plain": [
       "29722665.0"
      ]
     },
     "execution_count": 54,
     "metadata": {},
     "output_type": "execute_result"
    }
   ],
   "source": [
    "cost = (1/2*len(dataframe[1])) * sum(sqrErrors)\n",
    "cost"
   ]
  },
  {
   "cell_type": "code",
   "execution_count": null,
   "metadata": {},
   "outputs": [],
   "source": [
    "class LinearRegression(object):\n",
    "    def __init__(self, dataframe_path, initial_theta=np.array([1,1]), learning_rate=0.1):\n",
    "        self.dataframe = pd.read_csv(dataframe_path, header=None)\n",
    "        self.dataframe['bias'] = 1  # add bias value x_0\n",
    "        self.theta = initial_theta\n",
    "        self.learning_rate = learning_rate\n",
    "        self.hypothesis = None\n",
    "        self.traiing_set_length = len(self.dataframe[1])\n",
    "    \n",
    "    def hypothesis(self, *features):\n",
    "        self.hypothesis = 0\n",
    "        for i in self.theta:\n",
    "            self.hypothesis\n",
    "    \n",
    "    def gradient_descent(self):\n",
    "        for i in range(self.traiing_set_length):\n",
    "            delta = "
   ]
  },
  {
   "cell_type": "code",
   "execution_count": null,
   "metadata": {},
   "outputs": [],
   "source": []
  }
 ],
 "metadata": {
  "kernelspec": {
   "display_name": "Python 3",
   "language": "python",
   "name": "python3"
  },
  "language_info": {
   "codemirror_mode": {
    "name": "ipython",
    "version": 3
   },
   "file_extension": ".py",
   "mimetype": "text/x-python",
   "name": "python",
   "nbconvert_exporter": "python",
   "pygments_lexer": "ipython3",
   "version": "3.7.2"
  }
 },
 "nbformat": 4,
 "nbformat_minor": 2
}
