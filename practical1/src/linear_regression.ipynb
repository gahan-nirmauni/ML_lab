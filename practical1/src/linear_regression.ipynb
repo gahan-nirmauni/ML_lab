{
 "cells": [
  {
   "cell_type": "code",
   "execution_count": 1,
   "metadata": {},
   "outputs": [],
   "source": [
    "import pandas as pd\n",
    "# Setting up inline plotting using jupyter notebook \"magic\"\n",
    "# %matplotlib notebook\n",
    "\n",
    "import matplotlib.pyplot as plt\n",
    "import numpy as np\n",
    "# Read below thread for plotting guides\n",
    "# https://www.oreilly.com/library/view/python-data-science/9781491912126/ch04.html"
   ]
  },
  {
   "cell_type": "code",
   "execution_count": 2,
   "metadata": {
    "scrolled": false
   },
   "outputs": [],
   "source": [
    "# df = pd.read_csv('data.txt', header=None)\n",
    "# x_mean, y_mean = df.mean()\n",
    "# print(x, y)\n",
    "# df[2] = df[0] - x_mean  # mean value difference: subtract mean from all input values of training set\n",
    "# df[3] = df[1] - y_mean  # mean value difference: subtract mean from all output values of training set\n",
    "# df[4] = df[2] ** 2  # square of mean value difference\n",
    "# df[5] = df[2] * df[3]\n",
    "# beta = sum(df[5])/ sum(df[4])\n",
    "# alpha = y_mean - beta*x_mean\n",
    "# print(alpha, beta)"
   ]
  },
  {
   "cell_type": "code",
   "execution_count": 3,
   "metadata": {
    "scrolled": true
   },
   "outputs": [
    {
     "data": {
      "image/png": "[encoded data removed]",
      "text/plain": [
       "<Figure size 432x288 with 1 Axes>"
      ]
     },
     "metadata": {
      "needs_background": "light"
     },
     "output_type": "display_data"
    }
   ],
   "source": [
    "class StatasticalRegression(object):\n",
    "    def __init__(self, dataframe_path=\"data.txt\"):\n",
    "        self.dataframe = pd.read_csv(dataframe_path, header=None)\n",
    "        self.alpha, self.beta = None, None\n",
    "    \n",
    "    def compute_constant(self):\n",
    "        x_mean, y_mean = self.dataframe.mean()\n",
    "#         print(\"Mean X: {}\\nMean Y: {}\".format(x_mean, y_mean))\n",
    "        self.dataframe['input_diff'] = self.dataframe[0] - x_mean  # mean value difference: subtract mean from all input values of training set\n",
    "        self.dataframe['output_diff'] = self.dataframe[1] - y_mean  # mean value difference: subtract mean from all output values of training set\n",
    "        self.dataframe['sqrd_input_diff'] = self.dataframe.input_diff ** 2  # square of mean value difference\n",
    "        self.dataframe['mul_input_output_diff'] = self.dataframe.input_diff * self.dataframe.output_diff\n",
    "#         print(\"Result: \\n{}\".format(self.dataframe))\n",
    "        self.beta = sum(self.dataframe.mul_input_output_diff)/ sum(self.dataframe.sqrd_input_diff)\n",
    "        self.alpha = y_mean - self.beta*x_mean\n",
    "        return self.alpha, self.beta\n",
    "    \n",
    "    def hypothesis(self, feature, alpha=None, beta=None):\n",
    "        if not (alpha and beta):\n",
    "            alpha, beta = self.compute_constant()\n",
    "        return (alpha + beta*feature)\n",
    "    \n",
    "    def add_predicted_values(self):\n",
    "        self.dataframe['prediction'] = self.hypothesis(self.dataframe[0], alpha, beta)\n",
    "    \n",
    "    def draw_accuracy_plot(self):\n",
    "        fig = plt.figure().add_axes((0.1, 0.2, 0.8, 0.7))\n",
    "        x = range(min(self.dataframe[0]) - 10, max(self.dataframe[0]) + 10)\n",
    "        fig.plot(x, [self.hypothesis(i, alpha, beta) for i in x])\n",
    "        fig.scatter(self.dataframe[0], self.dataframe[1], marker='x', c=\"red\")\n",
    "        fig.set_title(\"Plot of statistical model\")\n",
    "\n",
    "s = StatasticalRegression()\n",
    "alpha, beta = s.compute_constant()\n",
    "s.add_predicted_values()\n",
    "s.draw_accuracy_plot()"
   ]
  },
  {
   "cell_type": "code",
   "execution_count": 4,
   "metadata": {},
   "outputs": [],
   "source": [
    "# dataframe = pd.read_csv(\"data.csv\")\n",
    "# actual_output = dataframe['y']  # y\n",
    "# dataframe = dataframe.drop(['y'], axis=1)  # X (without bias)\n",
    "# # add bias value\n",
    "# dataframe.insert(0, 'bias', 1)  # add bias value x_0  as a result (X with bias)\n",
    "\n",
    "# # set up initial values\n",
    "# initial_theta = np.array([300,30])  # set initial value of theta to 1,1\n",
    "# learning_rate = 0.5  # set learning rate alpha\n",
    "\n",
    "\n",
    "# hypothesis = dataframe.dot(initial_theta)  # alternative of (dataframe * initial_theta).sum(axis=1)\n",
    "# traing_set_length = len(actual_output)  # n -- number of training set\n",
    "\n",
    "# sqrErrors = (hypothesis - actual_output) ** 2  # mean squared error\n",
    "# cost = (1/2*traing_set_length) * sum(sqrErrors)  # calculated cost\n",
    "# cost"
   ]
  },
  {
   "cell_type": "code",
   "execution_count": 5,
   "metadata": {},
   "outputs": [
    {
     "data": {
      "image/png": "[encoded data removed]",
      "text/plain": [
       "<Figure size 432x288 with 1 Axes>"
      ]
     },
     "metadata": {
      "needs_background": "light"
     },
     "output_type": "display_data"
    }
   ],
   "source": [
    "class LinearRegression(object):\n",
    "    def __init__(self, dataframe_path=\"data.csv\", initial_theta=np.array([1,1]), learning_rate=0.1):\n",
    "        self.df = pd.read_csv(dataframe_path)\n",
    "        self.dataframe = pd.read_csv(dataframe_path)  # import directory\n",
    "        self.actual_output = self.dataframe['y']  \n",
    "        self.dataframe['bias'] = 1  # add bias value x_0\n",
    "        self.dataframe = self.dataframe.drop(['y'], axis=1)\n",
    "        self.theta = initial_theta\n",
    "        self.learning_rate = learning_rate\n",
    "        self.hypothesis = None\n",
    "        self.traing_set_length = len(self.actual_output)    \n",
    "    \n",
    "    def hypothesis(self, feature_matrix, theta):\n",
    "        return feature_matrix.dot(theta)\n",
    "        \n",
    "    def compute_cost(self, theta):\n",
    "        sqrErrors = (self.dataframe.dot(theta) - self.actual_output) ** 2\n",
    "        cost = (1/2*self.traing_set_length) * sum(sqrErrors)\n",
    "        return cost\n",
    "\n",
    "    def gradient_descent(self, theta, no_of_iterations=1000):\n",
    "        cost_history = np.zeros(no_of_iterations)\n",
    "        theta_history = np.zeros((no_of_iterations, 2))\n",
    "        \n",
    "        for i in range(self.traing_set_length):\n",
    "            # prediction = self.hypothesis(self.dataframe, theta)\n",
    "            prediction = self.dataframe.dot(theta)\n",
    "            theta = theta - (1/self.traing_set_length) * self.learning_rate * ( self.dataframe.T.dot((prediction - self.actual_output)))\n",
    "            theta_history[i,:] = theta.T\n",
    "            cost_history[i]  = self.compute_cost(theta)\n",
    "        \n",
    "        return theta, cost_history, theta_history \n",
    "    \n",
    "    def draw_accuracy_plot(self):\n",
    "        fig = plt.figure().add_axes((0.1, 0.2, 0.8, 0.7))\n",
    "        x = range(min(self.dataframe[0]) - 10, max(self.dataframe[0]) + 10)\n",
    "#         fig.plot(x, [self.hypothesis(i, alpha, beta) for i in x])\n",
    "        fig.scatter(self.dataframe[0], self.actual_output['y'], marker='x', c=\"red\")\n",
    "        fig.set_title(\"Plot of statistical model\")\n",
    "\n",
    "l = LinearRegression(learning_rate=0.001)\n",
    "no_of_iterations = 10**2\n",
    "theta, costs, thetas = l.gradient_descent(theta=np.array((0, 0)), no_of_iterations=no_of_iterations)\n",
    "\n",
    "fig,ax = plt.subplots()  # optional parameter figsize=(12,8)\n",
    "ax.set_ylabel('J(Theta)')\n",
    "ax.set_xlabel('Iterations')\n",
    "jThetaPlot=ax.plot(range(no_of_iterations), costs[:no_of_iterations], 'b.')"
   ]
  },
  {
   "cell_type": "code",
   "execution_count": 6,
   "metadata": {},
   "outputs": [
    {
     "data": {
      "text/plain": [
       "<matplotlib.axes._subplots.AxesSubplot at 0x7f1a09e113c8>"
      ]
     },
     "execution_count": 6,
     "metadata": {},
     "output_type": "execute_result"
    },
    {
     "data": {
      "image/png": "[encoded data removed]",
      "text/plain": [
       "<Figure size 432x288 with 1 Axes>"
      ]
     },
     "metadata": {
      "needs_background": "light"
     },
     "output_type": "display_data"
    }
   ],
   "source": [
    "l.df.plot.scatter(x=['feature1'], y=['y'])"
   ]
  },
  {
   "cell_type": "code",
   "execution_count": null,
   "metadata": {},
   "outputs": [],
   "source": []
  }
 ],
 "metadata": {
  "kernelspec": {
   "display_name": "Python 3",
   "language": "python",
   "name": "python3"
  },
  "language_info": {
   "codemirror_mode": {
    "name": "ipython",
    "version": 3
   },
   "file_extension": ".py",
   "mimetype": "text/x-python",
   "name": "python",
   "nbconvert_exporter": "python",
   "pygments_lexer": "ipython3",
   "version": "3.5.2"
  }
 },
 "nbformat": 4,
 "nbformat_minor": 2
}
