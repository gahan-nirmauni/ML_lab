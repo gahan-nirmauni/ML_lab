{
 "cells": [
  {
   "cell_type": "code",
   "execution_count": 1,
   "metadata": {},
   "outputs": [],
   "source": [
    "import pandas as pd\n",
    "# Setting up inline plotting using jupyter notebook \"magic\"\n",
    "# %matplotlib notebook\n",
    "\n",
    "import matplotlib.pyplot as plt\n",
    "import numpy as np\n",
    "# Read below thread for plotting guides\n",
    "# https://www.oreilly.com/library/view/python-data-science/9781491912126/ch04.html"
   ]
  },
  {
   "cell_type": "code",
   "execution_count": 2,
   "metadata": {
    "scrolled": false
   },
   "outputs": [],
   "source": [
    "# df = pd.read_csv('data.txt', header=None)\n",
    "# x_mean, y_mean = df.mean()\n",
    "# print(x, y)\n",
    "# df[2] = df[0] - x_mean  # mean value difference: subtract mean from all input values of training set\n",
    "# df[3] = df[1] - y_mean  # mean value difference: subtract mean from all output values of training set\n",
    "# df[4] = df[2] ** 2  # square of mean value difference\n",
    "# df[5] = df[2] * df[3]\n",
    "# beta = sum(df[5])/ sum(df[4])\n",
    "# alpha = y_mean - beta*x_mean\n",
    "# print(alpha, beta)"
   ]
  },
  {
   "cell_type": "markdown",
   "metadata": {},
   "source": [
    "# Statastical Regression"
   ]
  },
  {
   "cell_type": "code",
   "execution_count": 3,
   "metadata": {
    "scrolled": true
   },
   "outputs": [
    {
     "data": {
      "text/html": [
       "<div>\n",
       "<style scoped>\n",
       "    .dataframe tbody tr th:only-of-type {\n",
       "        vertical-align: middle;\n",
       "    }\n",
       "\n",
       "    .dataframe tbody tr th {\n",
       "        vertical-align: top;\n",
       "    }\n",
       "\n",
       "    .dataframe thead th {\n",
       "        text-align: right;\n",
       "    }\n",
       "</style>\n",
       "<table border=\"1\" class=\"dataframe\">\n",
       "  <thead>\n",
       "    <tr style=\"text-align: right;\">\n",
       "      <th></th>\n",
       "      <th>0</th>\n",
       "      <th>1</th>\n",
       "    </tr>\n",
       "  </thead>\n",
       "  <tbody>\n",
       "    <tr>\n",
       "      <th>0</th>\n",
       "      <td>4</td>\n",
       "      <td>390</td>\n",
       "    </tr>\n",
       "    <tr>\n",
       "      <th>1</th>\n",
       "      <td>9</td>\n",
       "      <td>580</td>\n",
       "    </tr>\n",
       "    <tr>\n",
       "      <th>2</th>\n",
       "      <td>10</td>\n",
       "      <td>650</td>\n",
       "    </tr>\n",
       "    <tr>\n",
       "      <th>3</th>\n",
       "      <td>14</td>\n",
       "      <td>730</td>\n",
       "    </tr>\n",
       "    <tr>\n",
       "      <th>4</th>\n",
       "      <td>4</td>\n",
       "      <td>410</td>\n",
       "    </tr>\n",
       "  </tbody>\n",
       "</table>\n",
       "</div>"
      ],
      "text/plain": [
       "    0    1\n",
       "0   4  390\n",
       "1   9  580\n",
       "2  10  650\n",
       "3  14  730\n",
       "4   4  410"
      ]
     },
     "execution_count": 3,
     "metadata": {},
     "output_type": "execute_result"
    }
   ],
   "source": [
    "class StatasticalRegression(object):\n",
    "    def __init__(self, dataframe_path=\"data.txt\"):\n",
    "        self.dataframe = pd.read_csv(dataframe_path, header=None)\n",
    "        self.alpha, self.beta = None, None\n",
    "    \n",
    "    def compute_constant(self):\n",
    "        x_mean, y_mean = self.dataframe.mean()\n",
    "#         print(\"Mean X: {}\\nMean Y: {}\".format(x_mean, y_mean))\n",
    "        self.dataframe['input_diff'] = self.dataframe[0] - x_mean  # mean value difference: subtract mean from all input values of training set\n",
    "        self.dataframe['output_diff'] = self.dataframe[1] - y_mean  # mean value difference: subtract mean from all output values of training set\n",
    "        self.dataframe['sqrd_input_diff'] = self.dataframe.input_diff ** 2  # square of mean value difference\n",
    "        self.dataframe['mul_input_output_diff'] = self.dataframe.input_diff * self.dataframe.output_diff\n",
    "#         print(\"Result: \\n{}\".format(self.dataframe))\n",
    "        self.beta = sum(self.dataframe.mul_input_output_diff)/ sum(self.dataframe.sqrd_input_diff)\n",
    "        self.alpha = y_mean - self.beta*x_mean\n",
    "        return self.alpha, self.beta\n",
    "    \n",
    "    def hypothesis(self, feature, alpha=None, beta=None):\n",
    "        if not (alpha and beta):\n",
    "            alpha, beta = self.compute_constant()\n",
    "        return (alpha + beta*feature)\n",
    "    \n",
    "    def add_predicted_values(self):\n",
    "        self.dataframe['prediction'] = self.hypothesis(self.dataframe[0], alpha, beta)\n",
    "    \n",
    "    def draw_accuracy_plot(self):\n",
    "        fig = plt.figure().add_axes((0.1, 0.2, 0.8, 0.7))\n",
    "        x = range(min(self.dataframe[0]) - 10, max(self.dataframe[0]) + 10)\n",
    "        fig.plot(x, [self.hypothesis(i, alpha, beta) for i in x])\n",
    "        fig.scatter(self.dataframe[0], self.dataframe[1], marker='x', c=\"red\")\n",
    "        fig.set_title(\"Plot of statistical model\")\n",
    "\n",
    "s = StatasticalRegression()\n",
    "s.dataframe.head()"
   ]
  },
  {
   "cell_type": "markdown",
   "metadata": {},
   "source": [
    "### Plot Prediction Plot for Statastical Regression"
   ]
  },
  {
   "cell_type": "code",
   "execution_count": 4,
   "metadata": {},
   "outputs": [
    {
     "data": {
      "image/png": "[encoded data removed]",
      "text/plain": [
       "<Figure size 432x288 with 1 Axes>"
      ]
     },
     "metadata": {
      "needs_background": "light"
     },
     "output_type": "display_data"
    }
   ],
   "source": [
    "alpha, beta = s.compute_constant()\n",
    "s.add_predicted_values()\n",
    "s.draw_accuracy_plot()"
   ]
  },
  {
   "cell_type": "code",
   "execution_count": 5,
   "metadata": {},
   "outputs": [],
   "source": [
    "# dataframe = pd.read_csv(\"data.csv\")\n",
    "# actual_output = dataframe['y']  # y\n",
    "# dataframe = dataframe.drop(['y'], axis=1)  # X (without bias)\n",
    "# # add bias value\n",
    "# dataframe.insert(0, 'bias', 1)  # add bias value x_0  as a result (X with bias)\n",
    "\n",
    "# # set up initial values\n",
    "# initial_theta = np.array([300,30])  # set initial value of theta to 1,1\n",
    "# learning_rate = 0.5  # set learning rate alpha\n",
    "\n",
    "\n",
    "# hypothesis = dataframe.dot(initial_theta)  # alternative of (dataframe * initial_theta).sum(axis=1)\n",
    "# traing_set_length = len(actual_output)  # n -- number of training set\n",
    "\n",
    "# sqrErrors = (hypothesis - actual_output) ** 2  # mean squared error\n",
    "# cost = (1/2*traing_set_length) * sum(sqrErrors)  # calculated cost\n",
    "# cost"
   ]
  },
  {
   "cell_type": "markdown",
   "metadata": {},
   "source": [
    "# Linear Regression"
   ]
  },
  {
   "cell_type": "code",
   "execution_count": 6,
   "metadata": {},
   "outputs": [
    {
     "data": {
      "text/html": [
       "<div>\n",
       "<style scoped>\n",
       "    .dataframe tbody tr th:only-of-type {\n",
       "        vertical-align: middle;\n",
       "    }\n",
       "\n",
       "    .dataframe tbody tr th {\n",
       "        vertical-align: top;\n",
       "    }\n",
       "\n",
       "    .dataframe thead th {\n",
       "        text-align: right;\n",
       "    }\n",
       "</style>\n",
       "<table border=\"1\" class=\"dataframe\">\n",
       "  <thead>\n",
       "    <tr style=\"text-align: right;\">\n",
       "      <th></th>\n",
       "      <th>feature1</th>\n",
       "      <th>y</th>\n",
       "    </tr>\n",
       "  </thead>\n",
       "  <tbody>\n",
       "    <tr>\n",
       "      <th>0</th>\n",
       "      <td>4</td>\n",
       "      <td>390</td>\n",
       "    </tr>\n",
       "    <tr>\n",
       "      <th>1</th>\n",
       "      <td>9</td>\n",
       "      <td>580</td>\n",
       "    </tr>\n",
       "    <tr>\n",
       "      <th>2</th>\n",
       "      <td>10</td>\n",
       "      <td>650</td>\n",
       "    </tr>\n",
       "    <tr>\n",
       "      <th>3</th>\n",
       "      <td>14</td>\n",
       "      <td>730</td>\n",
       "    </tr>\n",
       "    <tr>\n",
       "      <th>4</th>\n",
       "      <td>4</td>\n",
       "      <td>410</td>\n",
       "    </tr>\n",
       "  </tbody>\n",
       "</table>\n",
       "</div>"
      ],
      "text/plain": [
       "   feature1    y\n",
       "0         4  390\n",
       "1         9  580\n",
       "2        10  650\n",
       "3        14  730\n",
       "4         4  410"
      ]
     },
     "execution_count": 6,
     "metadata": {},
     "output_type": "execute_result"
    }
   ],
   "source": [
    "class LinearRegression(object):\n",
    "    def __init__(self, dataframe_path=\"data.csv\", initial_theta=np.array([1,1]), learning_rate=0.1, plots=10):\n",
    "        self.df = pd.read_csv(dataframe_path)\n",
    "        self.dataframe = pd.read_csv(dataframe_path)  # import directory\n",
    "        self.actual_output = self.dataframe['y']\n",
    "        self.dataframe.insert(0, 'bias', 1)  # add bias value x_0\n",
    "        self.dataframe = self.dataframe.drop(['y'], axis=1)\n",
    "        self.theta = initial_theta\n",
    "        self.learning_rate = learning_rate\n",
    "        self.hypothesis = None\n",
    "        self.traing_set_length = len(self.actual_output)    \n",
    "    \n",
    "    def hypothesis(self, feature_matrix, theta):\n",
    "        return feature_matrix.dot(theta)\n",
    "        \n",
    "    def compute_cost(self, theta):\n",
    "        sqrErrors = (self.dataframe.dot(theta) - self.actual_output) ** 2\n",
    "        cost = (1/2*self.traing_set_length) * sum(sqrErrors)\n",
    "        return cost\n",
    "\n",
    "    def gradient_descent(self, theta, no_of_iterations=1000, log=False):\n",
    "        cost_history = np.zeros(no_of_iterations)\n",
    "        theta_history = np.zeros((no_of_iterations, 2))\n",
    "        prediction_history = []\n",
    "        \n",
    "        for i in range(no_of_iterations):\n",
    "            # prediction = self.hypothesis(self.dataframe, theta)\n",
    "            prediction = self.dataframe.dot(theta)\n",
    "            error = self.dataframe.T.dot((prediction - self.actual_output))\n",
    "            theta -= (1/self.traing_set_length) * self.learning_rate * error\n",
    "            theta_history[i,:] = theta.T\n",
    "            cost_history[i]  = self.compute_cost(theta)\n",
    "            prediction_history.append(prediction)\n",
    "            if log:\n",
    "                print(\"{}. theta -> {}\\tcost -> {}\".format(i, theta_history[i], cost_history[i]))\n",
    "        \n",
    "        return theta, cost_history, theta_history, prediction_history\n",
    "    \n",
    "    def draw_accuracy_plot(self):\n",
    "        fig = plt.figure().add_axes((0.1, 0.2, 0.8, 0.7))\n",
    "        x = range(min(self.dataframe[0]) - 10, max(self.dataframe[0]) + 10)\n",
    "#         fig.plot(x, [self.hypothesis(i, alpha, beta) for i in x])\n",
    "        fig.scatter(self.dataframe[0], self.actual_output['y'], marker='x', c=\"red\")\n",
    "        fig.set_title(\"Plot of statistical model\")\n",
    "    \n",
    "    def hypothesis_plot(self, iteration_number, predictions):\n",
    "        plt.scatter(self.dataframe.feature1, self.df.y)\n",
    "        plt.xlabel('feature1')\n",
    "        plt.ylabel('actual output')\n",
    "        plt.plot(self.dataframe.feature1, predictions[iteration_number], color='r')\n",
    "        plt.show()\n",
    "\n",
    "l = LinearRegression(learning_rate=0.001)\n",
    "no_of_iterations = 10**2\n",
    "l.df.head()"
   ]
  },
  {
   "cell_type": "code",
   "execution_count": 7,
   "metadata": {},
   "outputs": [
    {
     "data": {
      "text/html": [
       "<div>\n",
       "<style scoped>\n",
       "    .dataframe tbody tr th:only-of-type {\n",
       "        vertical-align: middle;\n",
       "    }\n",
       "\n",
       "    .dataframe tbody tr th {\n",
       "        vertical-align: top;\n",
       "    }\n",
       "\n",
       "    .dataframe thead th {\n",
       "        text-align: right;\n",
       "    }\n",
       "</style>\n",
       "<table border=\"1\" class=\"dataframe\">\n",
       "  <thead>\n",
       "    <tr style=\"text-align: right;\">\n",
       "      <th></th>\n",
       "      <th>bias</th>\n",
       "      <th>feature1</th>\n",
       "    </tr>\n",
       "  </thead>\n",
       "  <tbody>\n",
       "    <tr>\n",
       "      <th>0</th>\n",
       "      <td>1</td>\n",
       "      <td>4</td>\n",
       "    </tr>\n",
       "    <tr>\n",
       "      <th>1</th>\n",
       "      <td>1</td>\n",
       "      <td>9</td>\n",
       "    </tr>\n",
       "    <tr>\n",
       "      <th>2</th>\n",
       "      <td>1</td>\n",
       "      <td>10</td>\n",
       "    </tr>\n",
       "    <tr>\n",
       "      <th>3</th>\n",
       "      <td>1</td>\n",
       "      <td>14</td>\n",
       "    </tr>\n",
       "    <tr>\n",
       "      <th>4</th>\n",
       "      <td>1</td>\n",
       "      <td>4</td>\n",
       "    </tr>\n",
       "  </tbody>\n",
       "</table>\n",
       "</div>"
      ],
      "text/plain": [
       "   bias  feature1\n",
       "0     1         4\n",
       "1     1         9\n",
       "2     1        10\n",
       "3     1        14\n",
       "4     1         4"
      ]
     },
     "execution_count": 7,
     "metadata": {},
     "output_type": "execute_result"
    }
   ],
   "source": [
    "l.dataframe.head()"
   ]
  },
  {
   "cell_type": "markdown",
   "metadata": {},
   "source": [
    "# Calculate and plot Cost Function J(theta)"
   ]
  },
  {
   "cell_type": "code",
   "execution_count": 8,
   "metadata": {},
   "outputs": [],
   "source": [
    "theta, costs, thetas, predictions = l.gradient_descent(theta=np.array((0, 0)), no_of_iterations=no_of_iterations)"
   ]
  },
  {
   "cell_type": "markdown",
   "metadata": {},
   "source": [
    "## Plot cost function values over iteration"
   ]
  },
  {
   "cell_type": "code",
   "execution_count": 9,
   "metadata": {},
   "outputs": [
    {
     "data": {
      "image/png": "[encoded data removed]",
      "text/plain": [
       "<Figure size 432x288 with 1 Axes>"
      ]
     },
     "metadata": {
      "needs_background": "light"
     },
     "output_type": "display_data"
    }
   ],
   "source": [
    "fig,ax = plt.subplots()  # optional parameter figsize=(12,8)\n",
    "ax.set_ylabel('J(Theta)')\n",
    "ax.set_xlabel('Iterations')\n",
    "jThetaPlot = ax.plot(range(no_of_iterations), costs[:no_of_iterations], 'b.')\n",
    "\n",
    "# thetas = pd.DataFrame(thetas)\n",
    "# features = l.df.feature1\n",
    "# features.head()"
   ]
  },
  {
   "cell_type": "markdown",
   "metadata": {},
   "source": [
    "# Plotting hypothesis"
   ]
  },
  {
   "cell_type": "markdown",
   "metadata": {},
   "source": [
    "### Initial Plot"
   ]
  },
  {
   "cell_type": "code",
   "execution_count": 10,
   "metadata": {},
   "outputs": [
    {
     "data": {
      "image/png": "[encoded data removed]",
      "text/plain": [
       "<Figure size 432x288 with 1 Axes>"
      ]
     },
     "metadata": {
      "needs_background": "light"
     },
     "output_type": "display_data"
    }
   ],
   "source": [
    "l.hypothesis_plot(0, predictions)"
   ]
  },
  {
   "cell_type": "markdown",
   "metadata": {},
   "source": [
    "### Hypothesis after 10 iteration"
   ]
  },
  {
   "cell_type": "code",
   "execution_count": 11,
   "metadata": {},
   "outputs": [
    {
     "data": {
      "image/png": "[encoded data removed]",
      "text/plain": [
       "<Figure size 432x288 with 1 Axes>"
      ]
     },
     "metadata": {
      "needs_background": "light"
     },
     "output_type": "display_data"
    }
   ],
   "source": [
    "l.hypothesis_plot(9, predictions)"
   ]
  },
  {
   "cell_type": "markdown",
   "metadata": {},
   "source": [
    "### Hypothesis after 20 iteration"
   ]
  },
  {
   "cell_type": "code",
   "execution_count": 12,
   "metadata": {},
   "outputs": [
    {
     "data": {
      "image/png": "[encoded data removed]",
      "text/plain": [
       "<Figure size 432x288 with 1 Axes>"
      ]
     },
     "metadata": {
      "needs_background": "light"
     },
     "output_type": "display_data"
    }
   ],
   "source": [
    "l.hypothesis_plot(19, predictions)"
   ]
  },
  {
   "cell_type": "markdown",
   "metadata": {},
   "source": [
    "### Hypothesis after 50 iteration"
   ]
  },
  {
   "cell_type": "code",
   "execution_count": 13,
   "metadata": {},
   "outputs": [],
   "source": [
    "### Hypothesis after 10 iteration"
   ]
  },
  {
   "cell_type": "code",
   "execution_count": 14,
   "metadata": {},
   "outputs": [
    {
     "data": {
      "image/png": "[encoded data removed]",
      "text/plain": [
       "<Figure size 432x288 with 1 Axes>"
      ]
     },
     "metadata": {
      "needs_background": "light"
     },
     "output_type": "display_data"
    }
   ],
   "source": [
    "l.hypothesis_plot(49, predictions)"
   ]
  },
  {
   "cell_type": "markdown",
   "metadata": {},
   "source": [
    "### Hypothesis after 100 iteration"
   ]
  },
  {
   "cell_type": "code",
   "execution_count": 15,
   "metadata": {},
   "outputs": [
    {
     "data": {
      "image/png": "[encoded data removed]",
      "text/plain": [
       "<Figure size 432x288 with 1 Axes>"
      ]
     },
     "metadata": {
      "needs_background": "light"
     },
     "output_type": "display_data"
    }
   ],
   "source": [
    "l.hypothesis_plot(99, predictions)"
   ]
  },
  {
   "cell_type": "code",
   "execution_count": null,
   "metadata": {},
   "outputs": [],
   "source": []
  }
 ],
 "metadata": {
  "kernelspec": {
   "display_name": "Python 3",
   "language": "python",
   "name": "python3"
  },
  "language_info": {
   "codemirror_mode": {
    "name": "ipython",
    "version": 3
   },
   "file_extension": ".py",
   "mimetype": "text/x-python",
   "name": "python",
   "nbconvert_exporter": "python",
   "pygments_lexer": "ipython3",
   "version": "3.5.2"
  }
 },
 "nbformat": 4,
 "nbformat_minor": 2
}
